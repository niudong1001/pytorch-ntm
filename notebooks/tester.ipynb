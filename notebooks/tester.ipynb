{
 "cells": [
  {
   "cell_type": "code",
   "execution_count": 20,
   "metadata": {},
   "outputs": [
    {
     "name": "stdout",
     "output_type": "stream",
     "text": [
      "0.2267058593810488\n",
      "0.9622950358343828\n",
      "0.2267058593810488\n",
      "0.9622950358343828\n"
     ]
    }
   ],
   "source": [
    "import random\n",
    "\n",
    "random.seed(8)\n",
    "print(random.random())\n",
    "print(random.random())\n",
    "random.seed(8)\n",
    "print(random.random())\n",
    "print(random.random())"
   ]
  },
  {
   "cell_type": "code",
   "execution_count": 47,
   "metadata": {},
   "outputs": [
    {
     "name": "stdout",
     "output_type": "stream",
     "text": [
      "p\n",
      "tk\n",
      "pca mmp gogo mm\n",
      "['tk', 'tk']\n",
      "<callable_iterator object at 0x10266aef0>\n",
      "['pca ', 'p gogo ', '']\n"
     ]
    }
   ],
   "source": [
    "import re\n",
    "s = \"pca tkp gogo tk\"\n",
    "a = re.match(r'.?', s, re.M|re.I)\n",
    "print(a.group())\n",
    "b = re.search(r'tk', s)\n",
    "print(b.group())\n",
    "c = re.sub(r'tk', 'mm', s)\n",
    "print(c)\n",
    "d = re.findall(r'tk', s)\n",
    "print(d)\n",
    "e = re.finditer(r'tk', s)\n",
    "print(e)\n",
    "f = re.split(r'tk', s)\n",
    "print(f)"
   ]
  }
 ],
 "metadata": {
  "kernelspec": {
   "display_name": "Python 3",
   "language": "python",
   "name": "python3"
  },
  "language_info": {
   "codemirror_mode": {
    "name": "ipython",
    "version": 3
   },
   "file_extension": ".py",
   "mimetype": "text/x-python",
   "name": "python",
   "nbconvert_exporter": "python",
   "pygments_lexer": "ipython3",
   "version": "3.6.5"
  }
 },
 "nbformat": 4,
 "nbformat_minor": 2
}
